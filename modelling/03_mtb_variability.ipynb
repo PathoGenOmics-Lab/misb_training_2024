{
 "cells": [
  {
   "cell_type": "markdown",
   "metadata": {},
   "source": [
    "# Mtb variability"
   ]
  },
  {
   "cell_type": "markdown",
   "metadata": {},
   "source": [
    "Download Mtb model iEK1366 from its [publication](https://doi.org/10.1186/s12918-018-0557-y)."
   ]
  },
  {
   "cell_type": "code",
   "execution_count": 1,
   "metadata": {},
   "outputs": [],
   "source": [
    "import requests\n",
    "import zipfile\n",
    "import io\n",
    "\n",
    "response = requests.get(\"https://www.ncbi.nlm.nih.gov/pmc/articles/PMC5834885/bin/12918_2018_557_MOESM3_ESM.zip\", stream=True)\n",
    "if response.status_code == 200:\n",
    "    z = zipfile.ZipFile(io.BytesIO(response.content))\n",
    "    z.extractall(\"iEK1011\")"
   ]
  },
  {
   "cell_type": "code",
   "execution_count": 2,
   "metadata": {},
   "outputs": [],
   "source": [
    "import cobra\n",
    "import pandas as pd"
   ]
  },
  {
   "cell_type": "code",
   "execution_count": 3,
   "metadata": {},
   "outputs": [],
   "source": [
    "def calculate_flux_differences(solution_a: cobra.Solution, solution_b: cobra.Solution, tag_a=\"a\", tag_b=\"b\", threshold=1e-3) -> pd.DataFrame:\n",
    "    fluxes = pd.merge(\n",
    "        solution_a.to_frame()[\"fluxes\"], solution_b.to_frame()[\"fluxes\"],\n",
    "        left_index=True, right_index=True,\n",
    "        suffixes=(f\"_{tag_a}\", f\"_{tag_b}\")\n",
    "    )\n",
    "    fluxes[\"difference\"] = fluxes[f\"fluxes_{tag_b}\"] - fluxes[f\"fluxes_{tag_a}\"]\n",
    "    differences = fluxes[fluxes.difference.abs() > threshold].sort_values(\"difference\", ascending=False, key=lambda x: x.abs())\n",
    "    return differences"
   ]
  },
  {
   "cell_type": "markdown",
   "metadata": {},
   "source": [
    "## Baseline growth in different environments"
   ]
  },
  {
   "cell_type": "code",
   "execution_count": 4,
   "metadata": {},
   "outputs": [],
   "source": [
    "model_medium = cobra.io.load_json_model(\"iEK1011/iEK1011_m7H10_media.json\")\n",
    "model_invivo = cobra.io.load_json_model(\"iEK1011/iEK1011_inVivo_media.json\")"
   ]
  },
  {
   "cell_type": "code",
   "execution_count": 5,
   "metadata": {},
   "outputs": [
    {
     "name": "stdout",
     "output_type": "stream",
     "text": [
      "Medium model:\n"
     ]
    },
    {
     "data": {
      "text/html": [
       "<h3>Objective</h3><p>1.0 biomass = 0.016564701900079686</p><h4>Uptake</h4><table border=\"1\" class=\"dataframe\">\n",
       "  <thead>\n",
       "    <tr style=\"text-align: right;\">\n",
       "      <th>Metabolite</th>\n",
       "      <th>Reaction</th>\n",
       "      <th>Flux</th>\n",
       "      <th>C-Number</th>\n",
       "      <th>C-Flux</th>\n",
       "    </tr>\n",
       "  </thead>\n",
       "  <tbody>\n",
       "    <tr>\n",
       "      <td>ac_e</td>\n",
       "      <td>EX_ac</td>\n",
       "      <td>0.3001</td>\n",
       "      <td>2</td>\n",
       "      <td>5.17%</td>\n",
       "    </tr>\n",
       "    <tr>\n",
       "      <td>cit_e</td>\n",
       "      <td>EX_cit</td>\n",
       "      <td>1</td>\n",
       "      <td>6</td>\n",
       "      <td>51.72%</td>\n",
       "    </tr>\n",
       "    <tr>\n",
       "      <td>fe3_e</td>\n",
       "      <td>EX_fe3</td>\n",
       "      <td>9.276E-05</td>\n",
       "      <td>0</td>\n",
       "      <td>0.00%</td>\n",
       "    </tr>\n",
       "    <tr>\n",
       "      <td>glu__L_e</td>\n",
       "      <td>EX_glu_L</td>\n",
       "      <td>1</td>\n",
       "      <td>5</td>\n",
       "      <td>43.10%</td>\n",
       "    </tr>\n",
       "    <tr>\n",
       "      <td>h_e</td>\n",
       "      <td>EX_h</td>\n",
       "      <td>4.846</td>\n",
       "      <td>0</td>\n",
       "      <td>0.00%</td>\n",
       "    </tr>\n",
       "    <tr>\n",
       "      <td>o2_e</td>\n",
       "      <td>EX_o2</td>\n",
       "      <td>2.633</td>\n",
       "      <td>0</td>\n",
       "      <td>0.00%</td>\n",
       "    </tr>\n",
       "    <tr>\n",
       "      <td>pi_e</td>\n",
       "      <td>EX_pi</td>\n",
       "      <td>0.02205</td>\n",
       "      <td>0</td>\n",
       "      <td>0.00%</td>\n",
       "    </tr>\n",
       "    <tr>\n",
       "      <td>so4_e</td>\n",
       "      <td>EX_so4</td>\n",
       "      <td>0.002206</td>\n",
       "      <td>0</td>\n",
       "      <td>0.00%</td>\n",
       "    </tr>\n",
       "  </tbody>\n",
       "</table><h4>Secretion</h4><table border=\"1\" class=\"dataframe\">\n",
       "  <thead>\n",
       "    <tr style=\"text-align: right;\">\n",
       "      <th>Metabolite</th>\n",
       "      <th>Reaction</th>\n",
       "      <th>Flux</th>\n",
       "      <th>C-Number</th>\n",
       "      <th>C-Flux</th>\n",
       "    </tr>\n",
       "  </thead>\n",
       "  <tbody>\n",
       "    <tr>\n",
       "      <td>4hba_e</td>\n",
       "      <td>EX_4hba</td>\n",
       "      <td>-1.325E-05</td>\n",
       "      <td>7</td>\n",
       "      <td>0.00%</td>\n",
       "    </tr>\n",
       "    <tr>\n",
       "      <td>h2co3_e</td>\n",
       "      <td>EX_h2co3</td>\n",
       "      <td>-2.839</td>\n",
       "      <td>1</td>\n",
       "      <td>26.23%</td>\n",
       "    </tr>\n",
       "    <tr>\n",
       "      <td>h2o_e</td>\n",
       "      <td>EX_h2o</td>\n",
       "      <td>-0.08528</td>\n",
       "      <td>0</td>\n",
       "      <td>0.00%</td>\n",
       "    </tr>\n",
       "    <tr>\n",
       "      <td>nh4_e</td>\n",
       "      <td>EX_nh4</td>\n",
       "      <td>-0.8862</td>\n",
       "      <td>0</td>\n",
       "      <td>0.00%</td>\n",
       "    </tr>\n",
       "    <tr>\n",
       "      <td>succ_e</td>\n",
       "      <td>EX_succ</td>\n",
       "      <td>-1.996</td>\n",
       "      <td>4</td>\n",
       "      <td>73.77%</td>\n",
       "    </tr>\n",
       "  </tbody>\n",
       "</table>"
      ],
      "text/plain": [
       "<cobra.summary.model_summary.ModelSummary at 0x265fcf19600>"
      ]
     },
     "execution_count": 5,
     "metadata": {},
     "output_type": "execute_result"
    }
   ],
   "source": [
    "print(\"Medium model:\")\n",
    "model_medium.summary()"
   ]
  },
  {
   "cell_type": "code",
   "execution_count": 6,
   "metadata": {},
   "outputs": [
    {
     "name": "stdout",
     "output_type": "stream",
     "text": [
      "In vivo model:\n"
     ]
    },
    {
     "data": {
      "text/html": [
       "<h3>Objective</h3><p>1.0 biomass = 0.039414218712236326</p><h4>Uptake</h4><table border=\"1\" class=\"dataframe\">\n",
       "  <thead>\n",
       "    <tr style=\"text-align: right;\">\n",
       "      <th>Metabolite</th>\n",
       "      <th>Reaction</th>\n",
       "      <th>Flux</th>\n",
       "      <th>C-Number</th>\n",
       "      <th>C-Flux</th>\n",
       "    </tr>\n",
       "  </thead>\n",
       "  <tbody>\n",
       "    <tr>\n",
       "      <td>asn__L_e</td>\n",
       "      <td>EX_asn_L</td>\n",
       "      <td>1.503</td>\n",
       "      <td>4</td>\n",
       "      <td>14.96%</td>\n",
       "    </tr>\n",
       "    <tr>\n",
       "      <td>asp__L_e</td>\n",
       "      <td>EX_asp_L</td>\n",
       "      <td>5</td>\n",
       "      <td>4</td>\n",
       "      <td>49.76%</td>\n",
       "    </tr>\n",
       "    <tr>\n",
       "      <td>fe3_e</td>\n",
       "      <td>EX_fe3</td>\n",
       "      <td>0.0002207</td>\n",
       "      <td>0</td>\n",
       "      <td>0.00%</td>\n",
       "    </tr>\n",
       "    <tr>\n",
       "      <td>gln__L_e</td>\n",
       "      <td>EX_gln_L</td>\n",
       "      <td>0.08165</td>\n",
       "      <td>5</td>\n",
       "      <td>1.02%</td>\n",
       "    </tr>\n",
       "    <tr>\n",
       "      <td>glu__L_e</td>\n",
       "      <td>EX_glu_L</td>\n",
       "      <td>1</td>\n",
       "      <td>5</td>\n",
       "      <td>12.44%</td>\n",
       "    </tr>\n",
       "    <tr>\n",
       "      <td>h_e</td>\n",
       "      <td>EX_h</td>\n",
       "      <td>12.62</td>\n",
       "      <td>0</td>\n",
       "      <td>0.00%</td>\n",
       "    </tr>\n",
       "    <tr>\n",
       "      <td>no3_e</td>\n",
       "      <td>EX_no3</td>\n",
       "      <td>1.5</td>\n",
       "      <td>0</td>\n",
       "      <td>0.00%</td>\n",
       "    </tr>\n",
       "    <tr>\n",
       "      <td>nodcoa_e</td>\n",
       "      <td>EX_nodcoa</td>\n",
       "      <td>0.009931</td>\n",
       "      <td>40</td>\n",
       "      <td>0.99%</td>\n",
       "    </tr>\n",
       "    <tr>\n",
       "      <td>o2_e</td>\n",
       "      <td>EX_o2</td>\n",
       "      <td>0.5</td>\n",
       "      <td>0</td>\n",
       "      <td>0.00%</td>\n",
       "    </tr>\n",
       "    <tr>\n",
       "      <td>octscoa_e</td>\n",
       "      <td>EX_octscoa</td>\n",
       "      <td>0.1689</td>\n",
       "      <td>49</td>\n",
       "      <td>20.59%</td>\n",
       "    </tr>\n",
       "    <tr>\n",
       "      <td>pi_e</td>\n",
       "      <td>EX_pi</td>\n",
       "      <td>0.05014</td>\n",
       "      <td>0</td>\n",
       "      <td>0.00%</td>\n",
       "    </tr>\n",
       "    <tr>\n",
       "      <td>so4_e</td>\n",
       "      <td>EX_so4</td>\n",
       "      <td>0.004476</td>\n",
       "      <td>0</td>\n",
       "      <td>0.00%</td>\n",
       "    </tr>\n",
       "    <tr>\n",
       "      <td>urea_e</td>\n",
       "      <td>EX_urea</td>\n",
       "      <td>0.1</td>\n",
       "      <td>1</td>\n",
       "      <td>0.25%</td>\n",
       "    </tr>\n",
       "  </tbody>\n",
       "</table><h4>Secretion</h4><table border=\"1\" class=\"dataframe\">\n",
       "  <thead>\n",
       "    <tr style=\"text-align: right;\">\n",
       "      <th>Metabolite</th>\n",
       "      <th>Reaction</th>\n",
       "      <th>Flux</th>\n",
       "      <th>C-Number</th>\n",
       "      <th>C-Flux</th>\n",
       "    </tr>\n",
       "  </thead>\n",
       "  <tbody>\n",
       "    <tr>\n",
       "      <td>4hba_e</td>\n",
       "      <td>EX_4hba</td>\n",
       "      <td>-3.153E-05</td>\n",
       "      <td>7</td>\n",
       "      <td>0.00%</td>\n",
       "    </tr>\n",
       "    <tr>\n",
       "      <td>ac_e</td>\n",
       "      <td>EX_ac</td>\n",
       "      <td>-0.004737</td>\n",
       "      <td>2</td>\n",
       "      <td>0.02%</td>\n",
       "    </tr>\n",
       "    <tr>\n",
       "      <td>ala__B_e</td>\n",
       "      <td>EX_ala_B</td>\n",
       "      <td>-3.994</td>\n",
       "      <td>3</td>\n",
       "      <td>31.25%</td>\n",
       "    </tr>\n",
       "    <tr>\n",
       "      <td>co2_e</td>\n",
       "      <td>EX_co2</td>\n",
       "      <td>-7.262</td>\n",
       "      <td>1</td>\n",
       "      <td>18.94%</td>\n",
       "    </tr>\n",
       "    <tr>\n",
       "      <td>coa_e</td>\n",
       "      <td>EX_coa</td>\n",
       "      <td>-0.1781</td>\n",
       "      <td>21</td>\n",
       "      <td>9.75%</td>\n",
       "    </tr>\n",
       "    <tr>\n",
       "      <td>h2_e</td>\n",
       "      <td>EX_h2</td>\n",
       "      <td>-0.004182</td>\n",
       "      <td>0</td>\n",
       "      <td>0.00%</td>\n",
       "    </tr>\n",
       "    <tr>\n",
       "      <td>nh4_e</td>\n",
       "      <td>EX_nh4</td>\n",
       "      <td>-6.61</td>\n",
       "      <td>0</td>\n",
       "      <td>0.00%</td>\n",
       "    </tr>\n",
       "    <tr>\n",
       "      <td>ocdcea_e</td>\n",
       "      <td>EX_ocdcea</td>\n",
       "      <td>-0.14</td>\n",
       "      <td>18</td>\n",
       "      <td>6.57%</td>\n",
       "    </tr>\n",
       "    <tr>\n",
       "      <td>succ_e</td>\n",
       "      <td>EX_succ</td>\n",
       "      <td>-3.209</td>\n",
       "      <td>4</td>\n",
       "      <td>33.47%</td>\n",
       "    </tr>\n",
       "  </tbody>\n",
       "</table>"
      ],
      "text/plain": [
       "<cobra.summary.model_summary.ModelSummary at 0x265fcf196c0>"
      ]
     },
     "execution_count": 6,
     "metadata": {},
     "output_type": "execute_result"
    }
   ],
   "source": [
    "print(\"In vivo model:\")\n",
    "model_invivo.summary()"
   ]
  },
  {
   "cell_type": "code",
   "execution_count": 7,
   "metadata": {},
   "outputs": [
    {
     "data": {
      "text/html": [
       "<div>\n",
       "<style scoped>\n",
       "    .dataframe tbody tr th:only-of-type {\n",
       "        vertical-align: middle;\n",
       "    }\n",
       "\n",
       "    .dataframe tbody tr th {\n",
       "        vertical-align: top;\n",
       "    }\n",
       "\n",
       "    .dataframe thead th {\n",
       "        text-align: right;\n",
       "    }\n",
       "</style>\n",
       "<table border=\"1\" class=\"dataframe\">\n",
       "  <thead>\n",
       "    <tr style=\"text-align: right;\">\n",
       "      <th></th>\n",
       "      <th>fluxes_medium</th>\n",
       "      <th>fluxes_invivo</th>\n",
       "      <th>difference</th>\n",
       "    </tr>\n",
       "  </thead>\n",
       "  <tbody>\n",
       "    <tr>\n",
       "      <th>EX_h</th>\n",
       "      <td>-4.845535</td>\n",
       "      <td>-12.617863</td>\n",
       "      <td>-7.772328</td>\n",
       "    </tr>\n",
       "    <tr>\n",
       "      <th>EX_co2</th>\n",
       "      <td>0.000000</td>\n",
       "      <td>7.262449</td>\n",
       "      <td>7.262449</td>\n",
       "    </tr>\n",
       "    <tr>\n",
       "      <th>CO2t</th>\n",
       "      <td>0.000000</td>\n",
       "      <td>-7.262449</td>\n",
       "      <td>-7.262449</td>\n",
       "    </tr>\n",
       "    <tr>\n",
       "      <th>EX_nh4</th>\n",
       "      <td>0.886186</td>\n",
       "      <td>6.610290</td>\n",
       "      <td>5.724104</td>\n",
       "    </tr>\n",
       "    <tr>\n",
       "      <th>NH4t</th>\n",
       "      <td>-0.886186</td>\n",
       "      <td>-6.610290</td>\n",
       "      <td>-5.724104</td>\n",
       "    </tr>\n",
       "    <tr>\n",
       "      <th>CYTBD</th>\n",
       "      <td>5.263342</td>\n",
       "      <td>0.000000</td>\n",
       "      <td>-5.263342</td>\n",
       "    </tr>\n",
       "    <tr>\n",
       "      <th>ASPt2r</th>\n",
       "      <td>0.000000</td>\n",
       "      <td>5.000000</td>\n",
       "      <td>5.000000</td>\n",
       "    </tr>\n",
       "    <tr>\n",
       "      <th>EX_asp_L</th>\n",
       "      <td>0.000000</td>\n",
       "      <td>-5.000000</td>\n",
       "      <td>-5.000000</td>\n",
       "    </tr>\n",
       "    <tr>\n",
       "      <th>NADTRHD</th>\n",
       "      <td>4.205467</td>\n",
       "      <td>0.000000</td>\n",
       "      <td>-4.205467</td>\n",
       "    </tr>\n",
       "    <tr>\n",
       "      <th>BALAt2r</th>\n",
       "      <td>0.000000</td>\n",
       "      <td>-3.994074</td>\n",
       "      <td>-3.994074</td>\n",
       "    </tr>\n",
       "    <tr>\n",
       "      <th>EX_ala_B</th>\n",
       "      <td>0.000000</td>\n",
       "      <td>3.994074</td>\n",
       "      <td>3.994074</td>\n",
       "    </tr>\n",
       "    <tr>\n",
       "      <th>ASP1DC</th>\n",
       "      <td>0.000325</td>\n",
       "      <td>3.994074</td>\n",
       "      <td>3.993750</td>\n",
       "    </tr>\n",
       "    <tr>\n",
       "      <th>NADH5</th>\n",
       "      <td>5.258198</td>\n",
       "      <td>1.487760</td>\n",
       "      <td>-3.770438</td>\n",
       "    </tr>\n",
       "    <tr>\n",
       "      <th>H2CO3D</th>\n",
       "      <td>2.839110</td>\n",
       "      <td>0.000000</td>\n",
       "      <td>-2.839110</td>\n",
       "    </tr>\n",
       "    <tr>\n",
       "      <th>H2CO3TP</th>\n",
       "      <td>-2.839110</td>\n",
       "      <td>0.000000</td>\n",
       "      <td>2.839110</td>\n",
       "    </tr>\n",
       "    <tr>\n",
       "      <th>EX_h2co3</th>\n",
       "      <td>2.839110</td>\n",
       "      <td>0.000000</td>\n",
       "      <td>-2.839110</td>\n",
       "    </tr>\n",
       "    <tr>\n",
       "      <th>GLUDx</th>\n",
       "      <td>0.921425</td>\n",
       "      <td>3.408515</td>\n",
       "      <td>2.487089</td>\n",
       "    </tr>\n",
       "    <tr>\n",
       "      <th>ASPTA</th>\n",
       "      <td>-0.026996</td>\n",
       "      <td>2.447241</td>\n",
       "      <td>2.474237</td>\n",
       "    </tr>\n",
       "    <tr>\n",
       "      <th>EX_o2</th>\n",
       "      <td>-2.633244</td>\n",
       "      <td>-0.500000</td>\n",
       "      <td>2.133244</td>\n",
       "    </tr>\n",
       "    <tr>\n",
       "      <th>O2t</th>\n",
       "      <td>2.633244</td>\n",
       "      <td>0.500000</td>\n",
       "      <td>-2.133244</td>\n",
       "    </tr>\n",
       "  </tbody>\n",
       "</table>\n",
       "</div>"
      ],
      "text/plain": [
       "          fluxes_medium  fluxes_invivo  difference\n",
       "EX_h          -4.845535     -12.617863   -7.772328\n",
       "EX_co2         0.000000       7.262449    7.262449\n",
       "CO2t           0.000000      -7.262449   -7.262449\n",
       "EX_nh4         0.886186       6.610290    5.724104\n",
       "NH4t          -0.886186      -6.610290   -5.724104\n",
       "CYTBD          5.263342       0.000000   -5.263342\n",
       "ASPt2r         0.000000       5.000000    5.000000\n",
       "EX_asp_L       0.000000      -5.000000   -5.000000\n",
       "NADTRHD        4.205467       0.000000   -4.205467\n",
       "BALAt2r        0.000000      -3.994074   -3.994074\n",
       "EX_ala_B       0.000000       3.994074    3.994074\n",
       "ASP1DC         0.000325       3.994074    3.993750\n",
       "NADH5          5.258198       1.487760   -3.770438\n",
       "H2CO3D         2.839110       0.000000   -2.839110\n",
       "H2CO3TP       -2.839110       0.000000    2.839110\n",
       "EX_h2co3       2.839110       0.000000   -2.839110\n",
       "GLUDx          0.921425       3.408515    2.487089\n",
       "ASPTA         -0.026996       2.447241    2.474237\n",
       "EX_o2         -2.633244      -0.500000    2.133244\n",
       "O2t            2.633244       0.500000   -2.133244"
      ]
     },
     "execution_count": 7,
     "metadata": {},
     "output_type": "execute_result"
    }
   ],
   "source": [
    "medium_solution = model_medium.optimize()\n",
    "invivo_solution = model_invivo.optimize()\n",
    "\n",
    "results = calculate_flux_differences(medium_solution, invivo_solution, \"medium\", \"invivo\")\n",
    "results.head(20)"
   ]
  },
  {
   "cell_type": "markdown",
   "metadata": {},
   "source": [
    "## Isoniazide in different environments"
   ]
  },
  {
   "cell_type": "markdown",
   "metadata": {},
   "source": [
    "Repeat what we did in the previous exercise."
   ]
  },
  {
   "cell_type": "code",
   "execution_count": 8,
   "metadata": {},
   "outputs": [
    {
     "name": "stdout",
     "output_type": "stream",
     "text": [
      "Medium growth with inhA KO (optimal) = 0 (100 % reduction)\n"
     ]
    }
   ],
   "source": [
    "medium_solution = model_medium.optimize()\n",
    "with model_medium:\n",
    "    model_medium.genes.Rv1484.knock_out()\n",
    "    medium_solution_inhA = model_medium.optimize()\n",
    "    reduction_percent = 100 * (medium_solution.objective_value - medium_solution_inhA.objective_value) / medium_solution.objective_value\n",
    "    print(f\"Medium growth with inhA KO ({medium_solution_inhA.status}) = {medium_solution_inhA.objective_value:g} ({reduction_percent:g} % reduction)\")"
   ]
  },
  {
   "cell_type": "markdown",
   "metadata": {},
   "source": [
    "Compare it with the *in vivo* model."
   ]
  },
  {
   "cell_type": "code",
   "execution_count": 9,
   "metadata": {},
   "outputs": [
    {
     "name": "stdout",
     "output_type": "stream",
     "text": [
      "In vivo growth with inhA KO (optimal) = 0 (100 % reduction)\n"
     ]
    }
   ],
   "source": [
    "invivo_solution = model_invivo.optimize()\n",
    "with model_invivo:\n",
    "    model_invivo.genes.Rv1484.knock_out()\n",
    "    invivo_solution_inhA = model_invivo.optimize()\n",
    "    reduction_percent = 100 * (invivo_solution.objective_value - invivo_solution_inhA.objective_value) / invivo_solution.objective_value\n",
    "    print(f\"In vivo growth with inhA KO ({invivo_solution_inhA.status}) = {invivo_solution_inhA.objective_value:g} ({reduction_percent:g} % reduction)\")"
   ]
  },
  {
   "cell_type": "markdown",
   "metadata": {},
   "source": [
    "## Isoniazide resistance in different environments"
   ]
  },
  {
   "cell_type": "code",
   "execution_count": 10,
   "metadata": {},
   "outputs": [
    {
     "name": "stdout",
     "output_type": "stream",
     "text": [
      "Medium growth with katG KO (optimal) = 0.016563 (0.0101493 % reduction)\n"
     ]
    }
   ],
   "source": [
    "medium_solution = model_medium.optimize()\n",
    "with model_medium:\n",
    "    model_medium.genes.Rv1908c.knock_out()\n",
    "    medium_solution_katG = model_medium.optimize()\n",
    "    reduction_percent = 100 * (medium_solution.objective_value - medium_solution_katG.objective_value) / medium_solution.objective_value\n",
    "    print(f\"Medium growth with katG KO ({medium_solution_katG.status}) = {medium_solution_katG.objective_value:g} ({reduction_percent:g} % reduction)\")"
   ]
  },
  {
   "cell_type": "code",
   "execution_count": 11,
   "metadata": {},
   "outputs": [
    {
     "name": "stdout",
     "output_type": "stream",
     "text": [
      "In vivo growth with katG KO (optimal) = 0.0394142 (0 % reduction)\n"
     ]
    }
   ],
   "source": [
    "invivo_solution = model_invivo.optimize()\n",
    "with model_invivo:\n",
    "    model_invivo.genes.Rv1908c.knock_out()\n",
    "    invivo_solution_katG = model_invivo.optimize()\n",
    "    reduction_percent = 100 * (invivo_solution.objective_value - invivo_solution_katG.objective_value) / invivo_solution.objective_value\n",
    "    print(f\"In vivo growth with katG KO ({invivo_solution_katG.status}) = {invivo_solution_katG.objective_value:g} ({reduction_percent:g} % reduction)\")"
   ]
  },
  {
   "cell_type": "markdown",
   "metadata": {},
   "source": [
    "Difference between baseline and katG loss-of-function."
   ]
  },
  {
   "cell_type": "code",
   "execution_count": 12,
   "metadata": {},
   "outputs": [
    {
     "data": {
      "text/html": [
       "<div>\n",
       "<style scoped>\n",
       "    .dataframe tbody tr th:only-of-type {\n",
       "        vertical-align: middle;\n",
       "    }\n",
       "\n",
       "    .dataframe tbody tr th {\n",
       "        vertical-align: top;\n",
       "    }\n",
       "\n",
       "    .dataframe thead th {\n",
       "        text-align: right;\n",
       "    }\n",
       "</style>\n",
       "<table border=\"1\" class=\"dataframe\">\n",
       "  <thead>\n",
       "    <tr style=\"text-align: right;\">\n",
       "      <th></th>\n",
       "      <th>fluxes_baseline</th>\n",
       "      <th>fluxes_katG</th>\n",
       "      <th>difference</th>\n",
       "    </tr>\n",
       "  </thead>\n",
       "  <tbody>\n",
       "  </tbody>\n",
       "</table>\n",
       "</div>"
      ],
      "text/plain": [
       "Empty DataFrame\n",
       "Columns: [fluxes_baseline, fluxes_katG, difference]\n",
       "Index: []"
      ]
     },
     "execution_count": 12,
     "metadata": {},
     "output_type": "execute_result"
    }
   ],
   "source": [
    "medium_differences_katG = calculate_flux_differences(medium_solution, medium_solution_katG, \"baseline\", \"katG\")\n",
    "medium_differences_katG"
   ]
  },
  {
   "cell_type": "code",
   "execution_count": 13,
   "metadata": {},
   "outputs": [
    {
     "data": {
      "text/html": [
       "<div>\n",
       "<style scoped>\n",
       "    .dataframe tbody tr th:only-of-type {\n",
       "        vertical-align: middle;\n",
       "    }\n",
       "\n",
       "    .dataframe tbody tr th {\n",
       "        vertical-align: top;\n",
       "    }\n",
       "\n",
       "    .dataframe thead th {\n",
       "        text-align: right;\n",
       "    }\n",
       "</style>\n",
       "<table border=\"1\" class=\"dataframe\">\n",
       "  <thead>\n",
       "    <tr style=\"text-align: right;\">\n",
       "      <th></th>\n",
       "      <th>fluxes_baseline</th>\n",
       "      <th>fluxes_katG</th>\n",
       "      <th>difference</th>\n",
       "    </tr>\n",
       "  </thead>\n",
       "  <tbody>\n",
       "  </tbody>\n",
       "</table>\n",
       "</div>"
      ],
      "text/plain": [
       "Empty DataFrame\n",
       "Columns: [fluxes_baseline, fluxes_katG, difference]\n",
       "Index: []"
      ]
     },
     "execution_count": 13,
     "metadata": {},
     "output_type": "execute_result"
    }
   ],
   "source": [
    "invivo_differences_katG = calculate_flux_differences(model_invivo.optimize(), invivo_solution_katG, \"baseline\", \"katG\")\n",
    "invivo_differences_katG"
   ]
  },
  {
   "cell_type": "markdown",
   "metadata": {},
   "source": [
    "## Flux variability analysis (FVA), briefly"
   ]
  },
  {
   "cell_type": "markdown",
   "metadata": {},
   "source": [
    "Here we perform FVA of the reactions that are altered upon a katG loss of function *in vitro* (`medium` model).\n",
    "\n",
    "We set `loopless=True` because it makes more sense, thermodinamilally. [More info here](https://cobrapy.readthedocs.io/en/latest/loopless.html)."
   ]
  },
  {
   "cell_type": "code",
   "execution_count": 14,
   "metadata": {},
   "outputs": [],
   "source": [
    "from cobra.flux_analysis import flux_variability_analysis as fva\n",
    "\n",
    "fva_results = fva(model_medium, reaction_list=list(medium_differences_katG.index), loopless=True, fraction_of_optimum=0.85)\n",
    "fva_results[\"optimum\"] = model_medium.optimize()[medium_differences_katG.index]"
   ]
  },
  {
   "cell_type": "code",
   "execution_count": 15,
   "metadata": {},
   "outputs": [
    {
     "data": {
      "image/png": "[encoded data removed]",
      "text/plain": [
       "<Figure size 1500x300 with 1 Axes>"
      ]
     },
     "metadata": {},
     "output_type": "display_data"
    }
   ],
   "source": [
    "import matplotlib.pyplot as plt\n",
    "\n",
    "x = fva_results.index\n",
    "y = fva_results.optimum\n",
    "ymin = (fva_results.optimum - fva_results.minimum).abs()\n",
    "ymax = (fva_results.optimum - fva_results.maximum).abs()\n",
    "\n",
    "fig, ax = plt.subplots(figsize=(15, 3))\n",
    "ax.errorbar(x, y, yerr=(ymin, ymax), fmt =\"o\")\n",
    "plt.xticks(rotation=90)\n",
    "plt.show()"
   ]
  },
  {
   "cell_type": "markdown",
   "metadata": {},
   "source": [
    "## Further analyses"
   ]
  },
  {
   "cell_type": "markdown",
   "metadata": {},
   "source": [
    "Differences in gene essentiality depending on environment:"
   ]
  },
  {
   "cell_type": "code",
   "execution_count": 16,
   "metadata": {},
   "outputs": [],
   "source": [
    "medium_essential = cobra.flux_analysis.find_essential_genes(model_medium)\n",
    "invivo_essential = cobra.flux_analysis.find_essential_genes(model_invivo)"
   ]
  },
  {
   "cell_type": "code",
   "execution_count": 17,
   "metadata": {},
   "outputs": [
    {
     "name": "stdout",
     "output_type": "stream",
     "text": [
      "Rv1449c\n",
      "Rv1310\n",
      "Rv2201\n",
      "Rv0733\n",
      "Rv0337c\n",
      "Rv3565\n",
      "Rv2225\n",
      "Rv3628\n",
      "Rv2573\n",
      "Rv1305\n",
      "Rv0951\n",
      "Rv1307\n",
      "Rv1391\n",
      "Rv1385\n",
      "Rv0382c\n",
      "Rv2495c\n",
      "Rv1311\n",
      "Rv2965c\n",
      "Rv1308\n",
      "Rv1306\n",
      "Rv2496c\n",
      "Rv2497c\n",
      "Rv3602c\n",
      "Rv2139\n",
      "Rv1380\n",
      "Rv1309\n",
      "Rv1381\n",
      "Rv0952\n",
      "Rv1092c\n",
      "Rv3140\n",
      "Rv1304\n",
      "Rv3601c\n",
      "Rv1631\n"
     ]
    }
   ],
   "source": [
    "different_genes = set(gene.id for gene in medium_essential).symmetric_difference(set(gene.id for gene in invivo_essential))\n",
    "for gene in different_genes:\n",
    "    print(gene)"
   ]
  },
  {
   "cell_type": "markdown",
   "metadata": {},
   "source": [
    "Gene list analyses with https://pantherdb.org:\n",
    "\n",
    "- ORA (using lists of genes)\n",
    "- GSEA (using fluxes through essential reactions)"
   ]
  }
 ],
 "metadata": {
  "kernelspec": {
   "display_name": "Python 3 (ipykernel)",
   "language": "python",
   "name": "python3"
  },
  "language_info": {
   "codemirror_mode": {
    "name": "ipython",
    "version": 3
   },
   "file_extension": ".py",
   "mimetype": "text/x-python",
   "name": "python",
   "nbconvert_exporter": "python",
   "pygments_lexer": "ipython3",
   "version": "3.10.14"
  }
 },
 "nbformat": 4,
 "nbformat_minor": 4
}
